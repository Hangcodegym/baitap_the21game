{
 "cells": [
  {
   "cell_type": "code",
   "execution_count": null,
   "id": "717a9096",
   "metadata": {},
   "outputs": [
    {
     "name": "stdout",
     "output_type": "stream",
     "text": [
      "đến lượt của bạn\n"
     ]
    }
   ],
   "source": [
    "import random\n",
    "gia_tri_toi_da = 21\n",
    "while True: \n",
    "    nguoi_choi_hien_tai=random.randint(0,1) #0: nguoi, #1: may\n",
    "    gia_tri_hien_tai=0\n",
    "    \n",
    "    while gia_tri_hien_tai<=gia_tri_toi_da: \n",
    "        if nguoi_choi_hien_tai ==0: # nguoi\n",
    "            print ('đến lượt của bạn')\n",
    "            gia_tri_nhap =0\n",
    "            while not (gia_tri_nhap>=1 and gia_tri_nhap <=3):\n",
    "                try:\n",
    "                    gia_tri_nhap =int (input ('chọn một giá trị bất kỳ từ 1 đến 3 :'))\n",
    "                except ValueError:\n",
    "                    gia_tri_nhap=0\n",
    "            gia_tri_hien_tai+=gia_tri_nhap \n",
    "            if gia_tri_hien_tai >=gia_tri_toi_da: \n",
    "                print(f'rất tiếc bạn đã thua ở lượt chơi này. Giá trị hiện tại là {gia_tri_hien_tai}.')\n",
    "                break\n",
    "            nguoi_choi_hien_tai=1 # luot ke den may\n",
    "        else: #may\n",
    "            gia_tri_nhap=random.randint(1, 3)\n",
    "            print('đến lượt của máy')\n",
    "            print(f'máy vừa chọn giá trị {gia_tri_nhap}' )\n",
    "            gia_tri_hien_tai+=gia_tri_nhap\n",
    "            if gia_tri_hien_tai>=gia_tri_toi_da:\n",
    "                print (f'chúc mừng bạn. Bạn đã chiến thắng. Gia trị hiện tại là {gia_tri_hien_tai}')\n",
    "                break\n",
    "            nguoi_choi_hien_tai=0 # luot ke den máy\n",
    "    choi_tiep=input ('bạn muốn chơi tiếp không ? bấm phím \"K\" (không) để dừng, ngược lại bấm phím bất kỳ :\\n')\n",
    "    if (choi_tiep ==\"K\"):\n",
    "        break\n",
    "            "
   ]
  }
 ],
 "metadata": {
  "kernelspec": {
   "display_name": "Python 3 (ipykernel)",
   "language": "python",
   "name": "python3"
  },
  "language_info": {
   "codemirror_mode": {
    "name": "ipython",
    "version": 3
   },
   "file_extension": ".py",
   "mimetype": "text/x-python",
   "name": "python",
   "nbconvert_exporter": "python",
   "pygments_lexer": "ipython3",
   "version": "3.9.12"
  }
 },
 "nbformat": 4,
 "nbformat_minor": 5
}
